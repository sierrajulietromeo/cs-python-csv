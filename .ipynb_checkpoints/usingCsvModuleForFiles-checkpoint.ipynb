{
 "cells": [
  {
   "cell_type": "markdown",
   "metadata": {},
   "source": [
    "# Using the CSV module for file I/O\n",
    "\n",
    "Python's **csv** module allows you to easily work with **comma separated values** in files\n",
    "\n",
    "CSV files are used to store a large number of variables – or data. They are incredibly simplified spreadsheets – think Excel – only the content is stored in plaintext.\n",
    "\n",
    "And the CSV module is a built-in function that allows Python to parse these types of files.\n",
    "\n",
    "\n",
    "[more info here](http://www.pythonforbeginners.com/systems-programming/using-the-csv-module-in-python/)\n",
    "\n",
    "\n"
   ]
  },
  {
   "cell_type": "markdown",
   "metadata": {},
   "source": [
    "# A csv file\n",
    "\n",
    "The file this sample notebook works with is called **students.csv**\n",
    "\n",
    "Remember the file needs to be in the same folder as the python program in order to access it.\n",
    "\n",
    "You should always use a try/except block around file I/O as missing files or incorrectly named files will result in your program crashing (```  FileNotFound ``` exception) \n",
    "\n",
    "The file looks like this:\n",
    "```\n",
    "Fred,23,34,56\n",
    "Joe,99,45,56\n",
    "Jane,65,34,57\n",
    "Gigi,77,99,12\n",
    "Karla,76,84,45\n",
    "```"
   ]
  },
  {
   "cell_type": "code",
   "execution_count": 118,
   "metadata": {},
   "outputs": [
    {
     "name": "stdout",
     "output_type": "stream",
     "text": [
      "[['Fred', '23', '34', '56'], ['Joe', '99', '45', '56'], ['Jane', '65', '34', '57'], ['Gigi', '77', '99', '12'], ['Karla', '76', '84', '45']]\n"
     ]
    }
   ],
   "source": [
    "#import the csv module\n",
    "import csv\n",
    "\n",
    "#functions\n",
    "\n",
    "#This function opens the file for reading and reads the file contents into a List of list of Strings. \n",
    "#This list is returned to the calling program\n",
    "\n",
    "def openFileRead():\n",
    "    \n",
    "    dataList=[]\n",
    "    try: \n",
    "        with open(\"students.csv\") as f:\n",
    "            reader = csv.reader(f)\n",
    "            for line in reader:\n",
    "                dataList.append(line)\n",
    "                #print(dataList)\n",
    "    \n",
    "    except FileNotFoundError:\n",
    "        print(\"Sorry that file was not found\")\n",
    "    return dataList\n",
    "\n",
    "\n",
    "#main program\n",
    "\n",
    "studentDataList = openFileRead()\n",
    "print(studentDataList)"
   ]
  },
  {
   "cell_type": "code",
   "execution_count": 119,
   "metadata": {
    "scrolled": true
   },
   "outputs": [
    {
     "name": "stdout",
     "output_type": "stream",
     "text": [
      "Name\tMaths\tEng\tSci\n",
      "========================================\n",
      "Fred\t23\t34\t56\t\n",
      "Joe\t99\t45\t56\t\n",
      "Jane\t65\t34\t57\t\n",
      "Gigi\t77\t99\t12\t\n",
      "Karla\t76\t84\t45\t\n"
     ]
    }
   ],
   "source": [
    "# this function takes as its parameters a list of list (of strings) \n",
    "# and a heading (as a string)\n",
    "# and prints the data in a user friendly table\n",
    "def printData(dataList, headings):\n",
    "    \n",
    "    print(headings)\n",
    "    print(\"=\"*40)\n",
    "    for i in range(len(dataList)):  #for all the rows\n",
    "        for j in range(len(dataList[i])):   #for all the items in each row\n",
    "            print(dataList[i][j], end=\"\\t\") #end with tab to line up columns\n",
    "        print()\n",
    "        \n",
    "printData(studentDataList, \"Name\\tMaths\\tEng\\tSci\")"
   ]
  },
  {
   "cell_type": "code",
   "execution_count": 120,
   "metadata": {},
   "outputs": [
    {
     "name": "stdout",
     "output_type": "stream",
     "text": [
      "37.7\n",
      "66.7\n",
      "52.0\n",
      "62.7\n",
      "68.3\n",
      "[['Fred', '23', '34', '56', '37.7'], ['Joe', '99', '45', '56', '66.7'], ['Jane', '65', '34', '57', '52.0'], ['Gigi', '77', '99', '12', '62.7'], ['Karla', '76', '84', '45', '68.3']]\n"
     ]
    }
   ],
   "source": [
    "#this function takes a list of lists (of strings) and calculates the students average grade\n",
    "#this new data is stored in a new list of lists which is returned to the calling function\n",
    "def calculateAve(dataList):\n",
    "    for i in range(len(dataList)): #for every row in the datalist\n",
    "        newRow = [] #create a new list for each row\n",
    "        newRow.append(dataList[i][1])\n",
    "        newRow.append(dataList[i][2])\n",
    "        newRow.append(dataList[i][3])\n",
    "        newRow = [int(i) for i in newRow] # Converts the Strings to an Integer so that they can be added together.\n",
    "        total = newRow[0]+newRow[1]+newRow[2] # Add scores together\n",
    "        average = total/3 # Work out the answer\n",
    "        average = str(round(average, 1))  # round down the answer to one decimal place and convert it back to a string\n",
    "        print(average) # debug line just to make sure it prints the average OK.\n",
    "        str(average) #converts the average variable to a string\n",
    "        #dataList.extend(average)\n",
    "        #print(newRow)\n",
    "        #dataList.append(average)\n",
    "        dataList[i].append(average) # Add the average score to the appropriate row of the list.  \n",
    "        \n",
    "        \n",
    "    print(dataList)\n",
    "    \n",
    "        \n",
    "    return aveStudentData\n",
    "\n",
    "aveStudentData = calculateAve(studentDataList)\n",
    "#print(aveStudentData) #debug"
   ]
  },
  {
   "cell_type": "code",
   "execution_count": 121,
   "metadata": {},
   "outputs": [
    {
     "name": "stdout",
     "output_type": "stream",
     "text": [
      "Name\tMaths\tEng\tSci\tAve\n",
      "========================================\n",
      "Fred\t23\t34\t56\t37.7\t\n",
      "Joe\t99\t45\t56\t66.7\t\n",
      "Jane\t65\t34\t57\t52.0\t\n",
      "Gigi\t77\t99\t12\t62.7\t\n",
      "Karla\t76\t84\t45\t68.3\t\n"
     ]
    }
   ],
   "source": [
    "# this function takes as its parameters a list of list (of strings) \n",
    "# and a heading (as a string)\n",
    "# and prints the data in a user friendly table\n",
    "def printData(dataList, headings):\n",
    "    \n",
    "    print(headings)\n",
    "    print(\"=\"*40)\n",
    "    for i in range(len(dataList)):  #for all the rows\n",
    "        for j in range(len(dataList[i])):   #for all the items in each row\n",
    "            print(dataList[i][j], end=\"\\t\") #end with tab to line up columns\n",
    "        print()\n",
    "        \n",
    "printData(studentDataList, \"Name\\tMaths\\tEng\\tSci\\tAve\")"
   ]
  },
  {
   "cell_type": "code",
   "execution_count": 124,
   "metadata": {},
   "outputs": [
    {
     "name": "stdout",
     "output_type": "stream",
     "text": [
      "File created!\n"
     ]
    }
   ],
   "source": [
    "#this function writes a list of lists to a file (as a csv)\n",
    "def write2DListDataToFile(twoDList):\n",
    "    #no need to validate... the file will be created.\n",
    "    with open(\"newDataFile.csv\", \"w\") as f:\n",
    "        writer = csv.writer(f)\n",
    "        writer.writerows(twoDList)\n",
    "\n",
    "write2DListDataToFile(studentDataList) \n",
    "print(\"File created!\")\n",
    "# now go a find the file that has been created in your folder"
   ]
  },
  {
   "cell_type": "code",
   "execution_count": null,
   "metadata": {},
   "outputs": [],
   "source": []
  }
 ],
 "metadata": {
  "kernelspec": {
   "display_name": "Python 3",
   "language": "python",
   "name": "python3"
  },
  "language_info": {
   "codemirror_mode": {
    "name": "ipython",
    "version": 3
   },
   "file_extension": ".py",
   "mimetype": "text/x-python",
   "name": "python",
   "nbconvert_exporter": "python",
   "pygments_lexer": "ipython3",
   "version": "3.5.2"
  }
 },
 "nbformat": 4,
 "nbformat_minor": 2
}
